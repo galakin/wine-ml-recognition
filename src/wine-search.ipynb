{
 "cells": [
  {
   "cell_type": "code",
   "execution_count": 1,
   "id": "moving-heaven",
   "metadata": {},
   "outputs": [
    {
     "name": "stdout",
     "output_type": "stream",
     "text": [
      "150930\n",
      "25219\n"
     ]
    }
   ],
   "source": [
    "import pandas as pd\n",
    "import math\n",
    "import numpy\n",
    "\n",
    "\n",
    "dataset = pd.read_csv(\"./winemag-data_first150k.csv\")\n",
    "print(len(dataset))\n",
    "\n",
    "train_ds = dataset[0:int(len(dataset)/2)]\n",
    "infer_ds = dataset[int(len(dataset)/2): len(dataset)]\n",
    "\n",
    "#0 index\n",
    "#1: country\n",
    "#2: desc\n",
    "#3 vineyard\n",
    "#4:  score\n",
    "#5 price\n",
    "#6 regin\n",
    "#9 type\n",
    "train_ds  = train_ds.values.tolist()\n",
    "# for elem in range(len(train_ds[0])):\n",
    "#     print(train_ds[i_elem][4])\n",
    "#     #print(str(elem)+\": \"+str(train_ds[0][elem]))\n",
    "\n",
    "score_90_or_above = []\n",
    "for i_elem in range(len(train_ds)):\n",
    "    if train_ds[i_elem][4] >= 90:\n",
    "        score_90_or_above.append(train_ds[i_elem])\n",
    "\n",
    "print(len(score_90_or_above))\n",
    "        \n",
    "def order_by_price(elem):\n",
    "    return elem[5]\n",
    "\n",
    "def order_by_score(elem):\n",
    "    return elem[4]\n",
    "    \n",
    "score_90_or_above.sort(key=order_by_score)"
   ]
  },
  {
   "cell_type": "code",
   "execution_count": 2,
   "id": "measured-geology",
   "metadata": {},
   "outputs": [
    {
     "data": {
      "text/plain": [
       "[<matplotlib.lines.Line2D at 0x7f4b84ee5e90>]"
      ]
     },
     "execution_count": 2,
     "metadata": {},
     "output_type": "execute_result"
    },
    {
     "data": {
      "image/png": "[encoded data removed]",
      "text/plain": [
       "<Figure size 720x720 with 1 Axes>"
      ]
     },
     "metadata": {
      "needs_background": "light"
     },
     "output_type": "display_data"
    }
   ],
   "source": [
    "from matplotlib import pyplot as plt\n",
    "import numpy as np\n",
    "score_list = []\n",
    "price_list = []\n",
    "\n",
    "for elem in range(len(score_90_or_above)):\n",
    "    score_list.append(score_90_or_above[elem][4])\n",
    "    price_list.append(score_90_or_above[elem][5])\n",
    "\n",
    "fig, ax = plt.subplots()\n",
    "fig.suptitle('A tale of 2 subplots')\n",
    "\n",
    "fig.set_figheight(10)\n",
    "fig.set_figwidth(10)\n",
    "\n",
    "ax.plot(price_list, score_list, 'o-')\n"
   ]
  },
  {
   "cell_type": "code",
   "execution_count": 3,
   "id": "convenient-gauge",
   "metadata": {},
   "outputs": [],
   "source": [
    "#medim price for score plot\n",
    "score_90_or_above.sort(key=order_by_score)\n",
    "index = 0\n",
    "score = 90\n",
    "medium_price = []\n",
    "for elem in range(11):\n",
    "    medium_price.append([])\n",
    "\n",
    "for elem in range(len(score_90_or_above)):\n",
    "    if score_90_or_above[elem][4] != score:\n",
    "        score = score_90_or_above[elem][4]\n",
    "        index+=1\n",
    "    else: \n",
    "        medium_price[index].append(score_90_or_above[elem][5])\n",
    "\n",
    "total_medium_price = 0\n",
    "total_element = 0 \n"
   ]
  },
  {
   "cell_type": "code",
   "execution_count": 18,
   "id": "annoying-testimony",
   "metadata": {},
   "outputs": [
    {
     "name": "stdout",
     "output_type": "stream",
     "text": [
      "8571\n",
      "36.888554023725554\n"
     ]
    }
   ],
   "source": [
    "print(len(medium_price[0]))\n",
    "for elem in range(len(medium_price[0])):\n",
    "    if medium_price[0][elem] != medium_price[0][elem]: medium_price[0][elem] = -1\n",
    "\n",
    "# upper_elem, lower_elem = 0,0\n",
    "\n",
    "# remove_nan = []\n",
    "# for elem in range(len(cleanedList)):\n",
    "#     if not math.isnan(cleanedList[elem]):\n",
    "#         print(cleanedList)\n",
    "#         None\n",
    "#         \n",
    "#         if (cleanedList(elem) > (total_medium_price / total_element)): upper_elem += 1\n",
    "#         else: lower_elem += 1"
   ]
  },
  {
   "cell_type": "code",
   "execution_count": null,
   "id": "3c56339e-93ee-4faa-a91c-67c9a2d7d225",
   "metadata": {},
   "outputs": [],
   "source": []
  }
 ],
 "metadata": {
  "kernelspec": {
   "display_name": "myenv",
   "language": "python",
   "name": "myenv"
  },
  "language_info": {
   "codemirror_mode": {
    "name": "ipython",
    "version": 3
   },
   "file_extension": ".py",
   "mimetype": "text/x-python",
   "name": "python",
   "nbconvert_exporter": "python",
   "pygments_lexer": "ipython3",
   "version": "3.7.10"
  }
 },
 "nbformat": 4,
 "nbformat_minor": 5
}
